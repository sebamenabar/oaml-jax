{
  "nbformat": 4,
  "nbformat_minor": 0,
  "metadata": {
    "colab": {
      "name": "oaml_jax.ipynb",
      "provenance": [],
      "collapsed_sections": []
    },
    "kernelspec": {
      "name": "python3",
      "display_name": "Python 3"
    },
    "accelerator": "GPU",
    "widgets": {
      "application/vnd.jupyter.widget-state+json": {
        "9faa6e14c91d45b9a45a3c493621599e": {
          "model_module": "@jupyter-widgets/controls",
          "model_name": "HBoxModel",
          "state": {
            "_view_name": "HBoxView",
            "_dom_classes": [],
            "_model_name": "HBoxModel",
            "_view_module": "@jupyter-widgets/controls",
            "_model_module_version": "1.5.0",
            "_view_count": null,
            "_view_module_version": "1.5.0",
            "box_style": "",
            "layout": "IPY_MODEL_4d0d682041194333ab865c50b215245a",
            "_model_module": "@jupyter-widgets/controls",
            "children": [
              "IPY_MODEL_a19433b0c86c4521b65d53cd5ae7939f",
              "IPY_MODEL_b05db30437a6414c8a3d31c116c9d937"
            ]
          }
        },
        "4d0d682041194333ab865c50b215245a": {
          "model_module": "@jupyter-widgets/base",
          "model_name": "LayoutModel",
          "state": {
            "_view_name": "LayoutView",
            "grid_template_rows": null,
            "right": null,
            "justify_content": null,
            "_view_module": "@jupyter-widgets/base",
            "overflow": null,
            "_model_module_version": "1.2.0",
            "_view_count": null,
            "flex_flow": null,
            "width": null,
            "min_width": null,
            "border": null,
            "align_items": null,
            "bottom": null,
            "_model_module": "@jupyter-widgets/base",
            "top": null,
            "grid_column": null,
            "overflow_y": null,
            "overflow_x": null,
            "grid_auto_flow": null,
            "grid_area": null,
            "grid_template_columns": null,
            "flex": null,
            "_model_name": "LayoutModel",
            "justify_items": null,
            "grid_row": null,
            "max_height": null,
            "align_content": null,
            "visibility": null,
            "align_self": null,
            "height": null,
            "min_height": null,
            "padding": null,
            "grid_auto_rows": null,
            "grid_gap": null,
            "max_width": null,
            "order": null,
            "_view_module_version": "1.2.0",
            "grid_template_areas": null,
            "object_position": null,
            "object_fit": null,
            "grid_auto_columns": null,
            "margin": null,
            "display": null,
            "left": null
          }
        },
        "a19433b0c86c4521b65d53cd5ae7939f": {
          "model_module": "@jupyter-widgets/controls",
          "model_name": "FloatProgressModel",
          "state": {
            "_view_name": "ProgressView",
            "style": "IPY_MODEL_9e1f41b06ed84b9e8526f2a71f908257",
            "_dom_classes": [],
            "description": "100%",
            "_model_name": "FloatProgressModel",
            "bar_style": "success",
            "max": 70000,
            "_view_module": "@jupyter-widgets/controls",
            "_model_module_version": "1.5.0",
            "value": 70000,
            "_view_count": null,
            "_view_module_version": "1.5.0",
            "orientation": "horizontal",
            "min": 0,
            "description_tooltip": null,
            "_model_module": "@jupyter-widgets/controls",
            "layout": "IPY_MODEL_c358cda4dab9479daec97e00105d2074"
          }
        },
        "b05db30437a6414c8a3d31c116c9d937": {
          "model_module": "@jupyter-widgets/controls",
          "model_name": "HTMLModel",
          "state": {
            "_view_name": "HTMLView",
            "style": "IPY_MODEL_7e0bf8cf6ae44ecb82dc2a4211db5f22",
            "_dom_classes": [],
            "description": "",
            "_model_name": "HTMLModel",
            "placeholder": "​",
            "_view_module": "@jupyter-widgets/controls",
            "_model_module_version": "1.5.0",
            "value": " 70000/70000 [08:56&lt;00:00, 130.54it/s, inner_loss=0.0, outer_loss=0.4154903]",
            "_view_count": null,
            "_view_module_version": "1.5.0",
            "description_tooltip": null,
            "_model_module": "@jupyter-widgets/controls",
            "layout": "IPY_MODEL_253d596d0445486e8980e6e5d8d57736"
          }
        },
        "9e1f41b06ed84b9e8526f2a71f908257": {
          "model_module": "@jupyter-widgets/controls",
          "model_name": "ProgressStyleModel",
          "state": {
            "_view_name": "StyleView",
            "_model_name": "ProgressStyleModel",
            "description_width": "initial",
            "_view_module": "@jupyter-widgets/base",
            "_model_module_version": "1.5.0",
            "_view_count": null,
            "_view_module_version": "1.2.0",
            "bar_color": null,
            "_model_module": "@jupyter-widgets/controls"
          }
        },
        "c358cda4dab9479daec97e00105d2074": {
          "model_module": "@jupyter-widgets/base",
          "model_name": "LayoutModel",
          "state": {
            "_view_name": "LayoutView",
            "grid_template_rows": null,
            "right": null,
            "justify_content": null,
            "_view_module": "@jupyter-widgets/base",
            "overflow": null,
            "_model_module_version": "1.2.0",
            "_view_count": null,
            "flex_flow": null,
            "width": null,
            "min_width": null,
            "border": null,
            "align_items": null,
            "bottom": null,
            "_model_module": "@jupyter-widgets/base",
            "top": null,
            "grid_column": null,
            "overflow_y": null,
            "overflow_x": null,
            "grid_auto_flow": null,
            "grid_area": null,
            "grid_template_columns": null,
            "flex": null,
            "_model_name": "LayoutModel",
            "justify_items": null,
            "grid_row": null,
            "max_height": null,
            "align_content": null,
            "visibility": null,
            "align_self": null,
            "height": null,
            "min_height": null,
            "padding": null,
            "grid_auto_rows": null,
            "grid_gap": null,
            "max_width": null,
            "order": null,
            "_view_module_version": "1.2.0",
            "grid_template_areas": null,
            "object_position": null,
            "object_fit": null,
            "grid_auto_columns": null,
            "margin": null,
            "display": null,
            "left": null
          }
        },
        "7e0bf8cf6ae44ecb82dc2a4211db5f22": {
          "model_module": "@jupyter-widgets/controls",
          "model_name": "DescriptionStyleModel",
          "state": {
            "_view_name": "StyleView",
            "_model_name": "DescriptionStyleModel",
            "description_width": "",
            "_view_module": "@jupyter-widgets/base",
            "_model_module_version": "1.5.0",
            "_view_count": null,
            "_view_module_version": "1.2.0",
            "_model_module": "@jupyter-widgets/controls"
          }
        },
        "253d596d0445486e8980e6e5d8d57736": {
          "model_module": "@jupyter-widgets/base",
          "model_name": "LayoutModel",
          "state": {
            "_view_name": "LayoutView",
            "grid_template_rows": null,
            "right": null,
            "justify_content": null,
            "_view_module": "@jupyter-widgets/base",
            "overflow": null,
            "_model_module_version": "1.2.0",
            "_view_count": null,
            "flex_flow": null,
            "width": null,
            "min_width": null,
            "border": null,
            "align_items": null,
            "bottom": null,
            "_model_module": "@jupyter-widgets/base",
            "top": null,
            "grid_column": null,
            "overflow_y": null,
            "overflow_x": null,
            "grid_auto_flow": null,
            "grid_area": null,
            "grid_template_columns": null,
            "flex": null,
            "_model_name": "LayoutModel",
            "justify_items": null,
            "grid_row": null,
            "max_height": null,
            "align_content": null,
            "visibility": null,
            "align_self": null,
            "height": null,
            "min_height": null,
            "padding": null,
            "grid_auto_rows": null,
            "grid_gap": null,
            "max_width": null,
            "order": null,
            "_view_module_version": "1.2.0",
            "grid_template_areas": null,
            "object_position": null,
            "object_fit": null,
            "grid_auto_columns": null,
            "margin": null,
            "display": null,
            "left": null
          }
        },
        "cf0e20fb12fd4eb9b575dba34867c6a4": {
          "model_module": "@jupyter-widgets/controls",
          "model_name": "HBoxModel",
          "state": {
            "_view_name": "HBoxView",
            "_dom_classes": [],
            "_model_name": "HBoxModel",
            "_view_module": "@jupyter-widgets/controls",
            "_model_module_version": "1.5.0",
            "_view_count": null,
            "_view_module_version": "1.5.0",
            "box_style": "",
            "layout": "IPY_MODEL_eec5dab780df47d6b4f2466249134b84",
            "_model_module": "@jupyter-widgets/controls",
            "children": [
              "IPY_MODEL_707d1efb06bd46a49adaa05aef43155c",
              "IPY_MODEL_b95a64dc36e649cc932e2292b7bf7cf2"
            ]
          }
        },
        "eec5dab780df47d6b4f2466249134b84": {
          "model_module": "@jupyter-widgets/base",
          "model_name": "LayoutModel",
          "state": {
            "_view_name": "LayoutView",
            "grid_template_rows": null,
            "right": null,
            "justify_content": null,
            "_view_module": "@jupyter-widgets/base",
            "overflow": null,
            "_model_module_version": "1.2.0",
            "_view_count": null,
            "flex_flow": null,
            "width": null,
            "min_width": null,
            "border": null,
            "align_items": null,
            "bottom": null,
            "_model_module": "@jupyter-widgets/base",
            "top": null,
            "grid_column": null,
            "overflow_y": null,
            "overflow_x": null,
            "grid_auto_flow": null,
            "grid_area": null,
            "grid_template_columns": null,
            "flex": null,
            "_model_name": "LayoutModel",
            "justify_items": null,
            "grid_row": null,
            "max_height": null,
            "align_content": null,
            "visibility": null,
            "align_self": null,
            "height": null,
            "min_height": null,
            "padding": null,
            "grid_auto_rows": null,
            "grid_gap": null,
            "max_width": null,
            "order": null,
            "_view_module_version": "1.2.0",
            "grid_template_areas": null,
            "object_position": null,
            "object_fit": null,
            "grid_auto_columns": null,
            "margin": null,
            "display": null,
            "left": null
          }
        },
        "707d1efb06bd46a49adaa05aef43155c": {
          "model_module": "@jupyter-widgets/controls",
          "model_name": "FloatProgressModel",
          "state": {
            "_view_name": "ProgressView",
            "style": "IPY_MODEL_1b292ddb561c4e59a82ea93f0ab59402",
            "_dom_classes": [],
            "description": " 42%",
            "_model_name": "FloatProgressModel",
            "bar_style": "",
            "max": 20000,
            "_view_module": "@jupyter-widgets/controls",
            "_model_module_version": "1.5.0",
            "value": 8448,
            "_view_count": null,
            "_view_module_version": "1.5.0",
            "orientation": "horizontal",
            "min": 0,
            "description_tooltip": null,
            "_model_module": "@jupyter-widgets/controls",
            "layout": "IPY_MODEL_a3a7c2e7773a4098823515abd4758f1f"
          }
        },
        "b95a64dc36e649cc932e2292b7bf7cf2": {
          "model_module": "@jupyter-widgets/controls",
          "model_name": "HTMLModel",
          "state": {
            "_view_name": "HTMLView",
            "style": "IPY_MODEL_24fc7ca0ad984d0ebaa6e5d15f0869bd",
            "_dom_classes": [],
            "description": "",
            "_model_name": "HTMLModel",
            "placeholder": "​",
            "_view_module": "@jupyter-widgets/controls",
            "_model_module_version": "1.5.0",
            "value": " 8448/20000 [10:28&lt;13:35, 14.17it/s, outer_loss=1.7700529]",
            "_view_count": null,
            "_view_module_version": "1.5.0",
            "description_tooltip": null,
            "_model_module": "@jupyter-widgets/controls",
            "layout": "IPY_MODEL_5c00ea2b7f924fe395d21a59b801f180"
          }
        },
        "1b292ddb561c4e59a82ea93f0ab59402": {
          "model_module": "@jupyter-widgets/controls",
          "model_name": "ProgressStyleModel",
          "state": {
            "_view_name": "StyleView",
            "_model_name": "ProgressStyleModel",
            "description_width": "initial",
            "_view_module": "@jupyter-widgets/base",
            "_model_module_version": "1.5.0",
            "_view_count": null,
            "_view_module_version": "1.2.0",
            "bar_color": null,
            "_model_module": "@jupyter-widgets/controls"
          }
        },
        "a3a7c2e7773a4098823515abd4758f1f": {
          "model_module": "@jupyter-widgets/base",
          "model_name": "LayoutModel",
          "state": {
            "_view_name": "LayoutView",
            "grid_template_rows": null,
            "right": null,
            "justify_content": null,
            "_view_module": "@jupyter-widgets/base",
            "overflow": null,
            "_model_module_version": "1.2.0",
            "_view_count": null,
            "flex_flow": null,
            "width": null,
            "min_width": null,
            "border": null,
            "align_items": null,
            "bottom": null,
            "_model_module": "@jupyter-widgets/base",
            "top": null,
            "grid_column": null,
            "overflow_y": null,
            "overflow_x": null,
            "grid_auto_flow": null,
            "grid_area": null,
            "grid_template_columns": null,
            "flex": null,
            "_model_name": "LayoutModel",
            "justify_items": null,
            "grid_row": null,
            "max_height": null,
            "align_content": null,
            "visibility": null,
            "align_self": null,
            "height": null,
            "min_height": null,
            "padding": null,
            "grid_auto_rows": null,
            "grid_gap": null,
            "max_width": null,
            "order": null,
            "_view_module_version": "1.2.0",
            "grid_template_areas": null,
            "object_position": null,
            "object_fit": null,
            "grid_auto_columns": null,
            "margin": null,
            "display": null,
            "left": null
          }
        },
        "24fc7ca0ad984d0ebaa6e5d15f0869bd": {
          "model_module": "@jupyter-widgets/controls",
          "model_name": "DescriptionStyleModel",
          "state": {
            "_view_name": "StyleView",
            "_model_name": "DescriptionStyleModel",
            "description_width": "",
            "_view_module": "@jupyter-widgets/base",
            "_model_module_version": "1.5.0",
            "_view_count": null,
            "_view_module_version": "1.2.0",
            "_model_module": "@jupyter-widgets/controls"
          }
        },
        "5c00ea2b7f924fe395d21a59b801f180": {
          "model_module": "@jupyter-widgets/base",
          "model_name": "LayoutModel",
          "state": {
            "_view_name": "LayoutView",
            "grid_template_rows": null,
            "right": null,
            "justify_content": null,
            "_view_module": "@jupyter-widgets/base",
            "overflow": null,
            "_model_module_version": "1.2.0",
            "_view_count": null,
            "flex_flow": null,
            "width": null,
            "min_width": null,
            "border": null,
            "align_items": null,
            "bottom": null,
            "_model_module": "@jupyter-widgets/base",
            "top": null,
            "grid_column": null,
            "overflow_y": null,
            "overflow_x": null,
            "grid_auto_flow": null,
            "grid_area": null,
            "grid_template_columns": null,
            "flex": null,
            "_model_name": "LayoutModel",
            "justify_items": null,
            "grid_row": null,
            "max_height": null,
            "align_content": null,
            "visibility": null,
            "align_self": null,
            "height": null,
            "min_height": null,
            "padding": null,
            "grid_auto_rows": null,
            "grid_gap": null,
            "max_width": null,
            "order": null,
            "_view_module_version": "1.2.0",
            "grid_template_areas": null,
            "object_position": null,
            "object_fit": null,
            "grid_auto_columns": null,
            "margin": null,
            "display": null,
            "left": null
          }
        }
      }
    }
  },
  "cells": [
    {
      "cell_type": "code",
      "metadata": {
        "id": "irXAvAqnK8bj",
        "colab_type": "code",
        "colab": {}
      },
      "source": [
        "from tqdm.notebook import tqdm\n",
        "from tqdm import tqdm as tqdm_t\n",
        "\n",
        "import numpy as onp\n",
        "import matplotlib.pyplot as plt # visualization\n",
        "\n",
        "import jax\n",
        "from jax import ops\n",
        "import jax.numpy as np\n",
        "from jax import jit, grad, value_and_grad, random, device_put\n",
        "from jax import lax\n",
        "from jax.random import split\n",
        "from jax.tree_util import tree_multimap\n",
        "from jax import vmap\n",
        "from jax.tree_util import Partial as partial\n",
        "\n",
        "from jax.experimental import optix\n",
        "from jax.experimental import optimizers\n",
        "from jax.experimental import stax # neural network library\n",
        "from jax.experimental.stax import Conv, Dense, MaxPool, Relu, Flatten, LogSoftmax # neural network layers"
      ],
      "execution_count": 1,
      "outputs": []
    },
    {
      "cell_type": "code",
      "metadata": {
        "id": "RlRssHEGLIst",
        "colab_type": "code",
        "colab": {
          "base_uri": "https://localhost:8080/",
          "height": 34
        },
        "outputId": "1e5aee0c-24e1-4fb8-c802-049b0aa84104"
      },
      "source": [
        "rng = random.PRNGKey(0)\n",
        "rng"
      ],
      "execution_count": 2,
      "outputs": [
        {
          "output_type": "execute_result",
          "data": {
            "text/plain": [
              "DeviceArray([0, 0], dtype=uint32)"
            ]
          },
          "metadata": {
            "tags": []
          },
          "execution_count": 2
        }
      ]
    },
    {
      "cell_type": "code",
      "metadata": {
        "id": "VnZnSDrvLLN7",
        "colab_type": "code",
        "colab": {}
      },
      "source": [
        "def sample_tasks(rng, outer_batch_size, inner_batch_size):\n",
        "    # Select amplitude and phase for the task\n",
        "    rng, rngA, rngP = split(rng, 3)\n",
        "    As = random.uniform(rngA, shape=(outer_batch_size,), minval=0.1, maxval=5.0)\n",
        "    phases = random.uniform(rngP, shape=(outer_batch_size,), minval=0, maxval=np.pi)\n",
        "    \n",
        "    def get_batch(rng):\n",
        "        xs = np.empty((outer_batch_size, inner_batch_size, 1))\n",
        "        ys = np.empty((outer_batch_size, inner_batch_size, 1))\n",
        "        rngs = split(rng, outer_batch_size)\n",
        "        for i, (A, phase, rng) in enumerate(zip(As, phases, rngs)):\n",
        "            x = random.uniform(rng, shape=(inner_batch_size, 1), minval=-5., maxval=5., )\n",
        "            y = A * np.sin(x + phase)\n",
        "            xs = ops.index_update(xs, i, x)\n",
        "            ys = ops.index_update(ys, i, y)\n",
        "        return xs, ys\n",
        "    rng2, rng3 = split(rng, 2)\n",
        "    x1, y1 = get_batch(rng2)\n",
        "    x2, y2 = get_batch(rng3)\n",
        "    return x1, y1, x2, y2, As, phases"
      ],
      "execution_count": 3,
      "outputs": []
    },
    {
      "cell_type": "code",
      "metadata": {
        "id": "fctDWplJLOoX",
        "colab_type": "code",
        "colab": {
          "base_uri": "https://localhost:8080/",
          "height": 284
        },
        "outputId": "b329cca7-1643-47b6-dcbf-acfa3aa86859"
      },
      "source": [
        "rng, rng_sample = split(rng, 2)\n",
        "x1, y1, x2, y2, As, phases = sample_tasks(rng, 2, 10)\n",
        "\n",
        "for i in range(x1.shape[0]):\n",
        "    plt.scatter(x1[i], y1[i], label='task{}-train'.format(i))\n",
        "for i in range(x1.shape[0]):\n",
        "    plt.scatter(x2[i], y2[i], label='task{}-val'.format(i))\n",
        "plt.legend()"
      ],
      "execution_count": 4,
      "outputs": [
        {
          "output_type": "execute_result",
          "data": {
            "text/plain": [
              "<matplotlib.legend.Legend at 0x7f53c0db1e10>"
            ]
          },
          "metadata": {
            "tags": []
          },
          "execution_count": 4
        },
        {
          "output_type": "display_data",
          "data": {
            "image/png": "[encoded data removed]",
            "text/plain": [
              "<Figure size 432x288 with 1 Axes>"
            ]
          },
          "metadata": {
            "tags": [],
            "needs_background": "light"
          }
        }
      ]
    },
    {
      "cell_type": "code",
      "metadata": {
        "id": "JxWY00tyLQew",
        "colab_type": "code",
        "colab": {}
      },
      "source": [
        "net_init, net_apply = stax.serial(\n",
        "    Dense(40), Relu,\n",
        "    Dense(40), Relu,\n",
        "    Dense(1),\n",
        ")\n",
        "\n",
        "def make_net(rng, in_shape=(-1, 1)):\n",
        "    rng, rng_net = split(rng, 2)\n",
        "    return net_init(rng_net, in_shape)\n",
        "\n",
        "def mse_loss(preds, targets):\n",
        "    return np.mean((preds - targets) ** 2)"
      ],
      "execution_count": 5,
      "outputs": []
    },
    {
      "cell_type": "code",
      "metadata": {
        "id": "vSn5JwnDLZMZ",
        "colab_type": "code",
        "colab": {}
      },
      "source": [
        "xrange_inputs = np.linspace(-5, 5, 100).reshape((100, 1)) # (k, 1)\n",
        "targets = np.sin(xrange_inputs)"
      ],
      "execution_count": 6,
      "outputs": []
    },
    {
      "cell_type": "markdown",
      "metadata": {
        "id": "3Cjfdi8tLWxc",
        "colab_type": "text"
      },
      "source": [
        "# Train vanilla SGD"
      ]
    },
    {
      "cell_type": "code",
      "metadata": {
        "id": "GxkKJsu4LTpb",
        "colab_type": "code",
        "colab": {
          "base_uri": "https://localhost:8080/",
          "height": 391
        },
        "outputId": "e64a9cc2-27d5-4e30-9729-c8816216b57e"
      },
      "source": [
        "fig, ax = plt.subplots(figsize=(12, 6))\n",
        "ax.plot(xrange_inputs, targets, label=\"Target\")\n",
        "\n",
        "out_shape, net_params = make_net(rng)\n",
        "opt_init, opt_update, get_params = optimizers.sgd(1e-1)\n",
        "opt_state = opt_init(net_params)\n",
        "\n",
        "@jit\n",
        "def loss_fn(params, inputs, targets):\n",
        "    return mse_loss(net_apply(params, inputs), targets)\n",
        "\n",
        "ax.plot(xrange_inputs, net_apply(net_params, xrange_inputs), label=\"0 steps\")\n",
        "plot_steps = [1, 10, 50, 100]\n",
        "for i in range(1, 101):\n",
        "    loss, grads = value_and_grad(loss_fn)(net_params, xrange_inputs, targets)\n",
        "    opt_state = opt_update(i - 1, grads, opt_state)\n",
        "    net_params = get_params(opt_state)\n",
        "    \n",
        "    if i in plot_steps:\n",
        "        preds = net_apply(net_params, xrange_inputs)\n",
        "        ax.plot(xrange_inputs, preds, label=\"%d steps\" % i)\n",
        "\n",
        "pointwise_loss = (preds - targets)\n",
        "ax.plot(xrange_inputs, pointwise_loss, linestyle='-.', label=\"Relative error\")\n",
        "ax.legend()"
      ],
      "execution_count": 7,
      "outputs": [
        {
          "output_type": "execute_result",
          "data": {
            "text/plain": [
              "<matplotlib.legend.Legend at 0x7f53a9337128>"
            ]
          },
          "metadata": {
            "tags": []
          },
          "execution_count": 7
        },
        {
          "output_type": "display_data",
          "data": {
            "image/png": "[encoded data removed]",
            "text/plain": [
              "<Figure size 864x432 with 1 Axes>"
            ]
          },
          "metadata": {
            "tags": [],
            "needs_background": "light"
          }
        }
      ]
    },
    {
      "cell_type": "code",
      "metadata": {
        "id": "_etjssqFLbQc",
        "colab_type": "code",
        "colab": {}
      },
      "source": [
        "def sgd_k_steps(params, loss_fn, x, y, k, opt_state, opt_get_updates_fn):\n",
        "    loss_history = np.zeros(k + 1)\n",
        "    for i in range(k):\n",
        "        loss, grads = value_and_grad(loss_fn)(params, x, y)\n",
        "        updates, opt_state = opt_get_updates_fn(grads, opt_state, params)\n",
        "        params = optix.apply_updates(params, updates)\n",
        "        loss_history = ops.index_update(loss_history, i, loss)\n",
        "\n",
        "    final_loss = loss_fn(params, x, y)\n",
        "    loss_history = ops.index_update(loss_history, k + 1, final_loss)\n",
        "    \n",
        "    return params, opt_state, loss_history\n",
        "\n",
        "def outer_loss_fn(params, inner_loss_fn, x_in, y_in, x_out, y_out, k, inner_opt):\n",
        "    inner_opt_state = inner_opt.init(params)\n",
        "    params, _, inner_loss = sgd_k_steps(params, inner_loss_fn, x_in, y_in, k, inner_opt_state, inner_opt.update)\n",
        "    return mse_loss(net_apply(params, x_out), y_out), inner_loss\n",
        "\n",
        "def batch_outer_loss(params, inner_loss_fn, x_in, y_in, x_out, y_out, k, inner_opt):\n",
        "    outer_losses, inner_losses = vmap(\n",
        "        partial(outer_loss_fn, params, inner_loss_fn, k=k, inner_opt=inner_opt)\n",
        "    )(x_in, y_in, x_out, y_out)\n",
        "    return outer_losses.mean(), inner_losses.mean(0)"
      ],
      "execution_count": 8,
      "outputs": []
    },
    {
      "cell_type": "code",
      "metadata": {
        "id": "bQ2DeW2VPqoa",
        "colab_type": "code",
        "colab": {}
      },
      "source": [
        "jit_batch_outer_loss = jit(batch_outer_loss, static_argnums=(1, 6, 7))\n",
        "jit_sample_tasks = jit(sample_tasks, static_argnums=(1, 2))"
      ],
      "execution_count": 9,
      "outputs": []
    },
    {
      "cell_type": "code",
      "metadata": {
        "id": "ynP4d1C2OUkf",
        "colab_type": "code",
        "colab": {
          "base_uri": "https://localhost:8080/",
          "height": 66,
          "referenced_widgets": [
            "9faa6e14c91d45b9a45a3c493621599e",
            "4d0d682041194333ab865c50b215245a",
            "a19433b0c86c4521b65d53cd5ae7939f",
            "b05db30437a6414c8a3d31c116c9d937",
            "9e1f41b06ed84b9e8526f2a71f908257",
            "c358cda4dab9479daec97e00105d2074",
            "7e0bf8cf6ae44ecb82dc2a4211db5f22",
            "253d596d0445486e8980e6e5d8d57736"
          ]
        },
        "outputId": "36a29f89-0ab7-427e-aca1-c1cf4c1dbea3"
      },
      "source": [
        "inner_opt = optix.sgd(1e-3)\n",
        "outer_opt_init, outer_opt_update, outer_get_params = optimizers.adam(step_size=1e-3)\n",
        "out_shape, net_params = make_net(rng)\n",
        "outer_opt_state = outer_opt_init(net_params)\n",
        "\n",
        "num_inner_steps = 1\n",
        "num_tasks = 25\n",
        "num_samples = 10\n",
        "\n",
        "@jit\n",
        "def inner_loss_fn(params, inputs, targets):\n",
        "    return mse_loss(net_apply(params, inputs), targets)\n",
        "\n",
        "def step(rng_task, i, opt_state):\n",
        "    x1, y1, x2, y2, _, _ = jit_sample_tasks(rng_task, num_tasks, num_samples)\n",
        "    p = outer_get_params(opt_state)\n",
        "    (outer_loss, inner_loss), outer_grads = value_and_grad(\n",
        "        jit_batch_outer_loss, has_aux=True,\n",
        "    )(p, inner_loss_fn, x1, y1, x2, y2, num_inner_steps, inner_opt)\n",
        "    opt_state = outer_opt_update(i, outer_grads, opt_state)\n",
        "    net_params = outer_get_params(opt_state)\n",
        "    \n",
        "    return opt_state, outer_loss, inner_loss\n",
        "\n",
        "device = \"gpu\"\n",
        "backend = jax.devices(device)[0]\n",
        "step = jit(step, backend=device)\n",
        "\n",
        "num_outer_steps = 70000\n",
        "pbar = tqdm(range(num_outer_steps))\n",
        "# np_batched_maml_loss = []\n",
        "np_batched_maml_loss = device_put(np.zeros(num_outer_steps), backend)\n",
        "for i in pbar:\n",
        "    rng, rng_task = split(rng, 2)\n",
        "    outer_opt_state, outer_loss, inner_loss = step(rng_task, i, outer_opt_state)\n",
        "\n",
        "    if (i % 500) == 0:\n",
        "        pbar.set_postfix(\n",
        "            outer_loss=outer_loss, inner_loss=inner_loss[-1],\n",
        "            refresh=True,\n",
        "        )\n",
        "    # np_batched_maml_loss.append(outer_loss)\n",
        "    np_batched_maml_loss = ops.index_update(np_batched_maml_loss, i, outer_loss)\n",
        "    \n",
        "multi_batch_params = outer_get_params(outer_opt_state)"
      ],
      "execution_count": 42,
      "outputs": [
        {
          "output_type": "display_data",
          "data": {
            "application/vnd.jupyter.widget-view+json": {
              "model_id": "9faa6e14c91d45b9a45a3c493621599e",
              "version_minor": 0,
              "version_major": 2
            },
            "text/plain": [
              "HBox(children=(FloatProgress(value=0.0, max=70000.0), HTML(value='')))"
            ]
          },
          "metadata": {
            "tags": []
          }
        },
        {
          "output_type": "stream",
          "text": [
            "\n"
          ],
          "name": "stdout"
        }
      ]
    },
    {
      "cell_type": "code",
      "metadata": {
        "id": "-LSIQFP6Q1-Z",
        "colab_type": "code",
        "colab": {
          "base_uri": "https://localhost:8080/",
          "height": 494
        },
        "outputId": "17c5e507-9977-45a9-f44d-b2148f00625d"
      },
      "source": [
        "\n",
        "num_samples = 5\n",
        "\n",
        "np_batched_maml_lfig, ax = plt.subplots(figsize=(12, 6))\n",
        "ax.plot(xrange_inputs, np.sin(xrange_inputs + phases[1]) * As[1], label=\"Ground truth\")\n",
        "ax.scatter(x1[1, :5], y1[1, :5], marker=\"^\", label=\"Samples\", color=\"purple\", s=80)\n",
        "\n",
        "new_params = multi_batch_params\n",
        "ax.plot(xrange_inputs, net_apply(new_params, xrange_inputs), label=\"0 steps\")\n",
        "inner_opt = optix.sgd(1e-3)\n",
        "inner_opt_state = inner_opt.init(new_params)\n",
        "for i in range(0, 10):\n",
        "    new_params, inner_opt_state, loss = sgd_k_steps(\n",
        "        new_params, inner_loss_fn, x1[1, :num_samples], y1[1, :num_samples], 1, inner_opt_state, inner_opt.update,\n",
        "        )\n",
        "\n",
        "    # (new_params, inner_opt_state), loss = jittable_k_updates(\n",
        "    #     new_params, x1[1, :5], y1[1, :5], k=1, opt_state=inner_opt_state, opt_update=inner_opt.update,\n",
        "    # )\n",
        "\n",
        "    if (i + 1) in [1, 5, 10]:\n",
        "        preds = net_apply(new_params, xrange_inputs)\n",
        "        ax.plot(xrange_inputs, preds, label=\"%d steps\" % (i + 1))\n",
        "\n",
        "        pointwise_loss = (np.sin(xrange_inputs + phases[1]) * As[1] - preds)\n",
        "        print(\"MSE 5-shot %d steps\" % (i + 1))\n",
        "        print((pointwise_loss ** 2).mean())\n",
        "        \n",
        "ax.plot(xrange_inputs, pointwise_loss, linestyle='-.', label=\"Relative error\")\n",
        "ax.plot(xrange_inputs, np.zeros(len(xrange_inputs)), color=\"red\", linestyle='--', linewidth=0.5)\n",
        "\n",
        "\n",
        "ax.legend()\n",
        "ax.set_title(\"MAML\");"
      ],
      "execution_count": 45,
      "outputs": [
        {
          "output_type": "stream",
          "text": [
            "MSE 5-shot 1 steps\n",
            "0.6037637\n",
            "MSE 5-shot 5 steps\n",
            "0.474091\n",
            "MSE 5-shot 10 steps\n",
            "0.475591\n"
          ],
          "name": "stdout"
        },
        {
          "output_type": "display_data",
          "data": {
            "image/png": "[encoded data removed]",
            "text/plain": [
              "<Figure size 864x432 with 1 Axes>"
            ]
          },
          "metadata": {
            "tags": [],
            "needs_background": "light"
          }
        }
      ]
    },
    {
      "cell_type": "code",
      "metadata": {
        "id": "d4Zv8FMXyMbh",
        "colab_type": "code",
        "colab": {}
      },
      "source": [
        "class SineSampler:\n",
        "    def __init__(self, rng, tasks, capacity):\n",
        "        self.tasks = tasks\n",
        "        self.capacity = capacity\n",
        "        self.task_iterators = []\n",
        "\n",
        "        rng_amplitude, rng_phase, rng_decay, rng_frequency = split(rng, 4)\n",
        "\n",
        "        self.iterators = {\n",
        "            \"id\": tasks,\n",
        "            \"amplitude\": random.uniform(rng_amplitude, (len(tasks),), minval=0.1, maxval=5.0),\n",
        "            \"phase\": random.uniform(rng_amplitude, (len(tasks),), minval=0.0, maxval=1.0) * np.pi,\n",
        "            \"decay\": random.uniform(rng_decay, (len(tasks),), minval=0.0, maxval=1.0) * 0.4,\n",
        "            \"frequency\": random.uniform(rng_frequency, (len(tasks),), minval=0.0, maxval=1.0) * 2 + 1.0,\n",
        "        }\n",
        "\n",
        "    def sample_batch(self, rng, task, task_map_id, num_samples=10):\n",
        "        rng, rng_samples = split(rng, 2)\n",
        "        x_samples = random.uniform(rng_samples, (num_samples,), minval=-5.0, maxval=5.0)\n",
        "        x = np.zeros((num_samples, self.capacity))\n",
        "        x = ops.index_update(x, ops.index[:, self.capacity - 1], x_samples)\n",
        "        # assert task_map_id < self.capacity\n",
        "        # assert lax.lt(task_map_id, self.capacity)\n",
        "        x = ops.index_update(x, ops.index[:, task_map_id], 1)\n",
        "\n",
        "        targets = np.zeros((num_samples, 2))\n",
        "        amplitude = self.iterators[\"amplitude\"][task]\n",
        "        phase = self.iterators[\"phase\"][task]\n",
        "        targets = ops.index_update(targets, ops.index[:, 0], amplitude * np.sin(x_samples + phase))\n",
        "\n",
        "        return x, targets"
      ],
      "execution_count": 59,
      "outputs": []
    },
    {
      "cell_type": "code",
      "metadata": {
        "id": "74sH9nuO_vLt",
        "colab_type": "code",
        "colab": {}
      },
      "source": [
        "def construct_sets(rng, tasks, sampler, num_steps, num_samples, shuffle_ids=True):\n",
        "    rng_shuffle, rng_sample = split(rng, 2)\n",
        "\n",
        "    x_spt, y_spt = [], []\n",
        "    x_qry, y_qry = [], []\n",
        "\n",
        "    id_map = np.arange(0, sampler.capacity - 1)\n",
        "    if shuffle_ids:\n",
        "        id_map = random.permutation(rng_shuffle, id_map)\n",
        "    \n",
        "    for task_id in tasks:\n",
        "        rng_sample_spt, rng_sample_qry = split(rng_sample, 2)\n",
        "        task_mapped_id = id_map[task_id]\n",
        "        x, y = sampler.sample_batch(rng_sample_spt, task_id, task_mapped_id, num_samples * num_steps)\n",
        "        x_spt.append(x), y_spt.append(y)\n",
        "\n",
        "        x, y = sampler.sample_batch(rng_sample_spt, task_id, task_mapped_id, num_samples)\n",
        "        x_qry.append(x), y_qry.append(y)\n",
        "\n",
        "    x_qry = np.concatenate(x_qry)\n",
        "    y_qry = np.concatenate(y_qry)\n",
        "\n",
        "    x_spt = np.stack(x_spt)\n",
        "    y_spt = np.stack(y_spt)\n",
        "\n",
        "    return x_spt, y_spt, x_qry, y_qry"
      ],
      "execution_count": 26,
      "outputs": []
    },
    {
      "cell_type": "code",
      "metadata": {
        "id": "TV9dRgsEAw1H",
        "colab_type": "code",
        "colab": {}
      },
      "source": [
        "x_spt, y_spt, x_qry, y_qry = construct_sets(rng, [1, 2, 3], sine_sampler, 10, 10)"
      ],
      "execution_count": 27,
      "outputs": []
    },
    {
      "cell_type": "code",
      "metadata": {
        "id": "swmDwvChHylu",
        "colab_type": "code",
        "colab": {
          "base_uri": "https://localhost:8080/",
          "height": 34
        },
        "outputId": "bfded5e5-77bf-41bc-c264-c69fd493ecbb"
      },
      "source": [
        "x_spt.shape, y_spt.shape, x_qry.shape, y_qry.shape"
      ],
      "execution_count": 30,
      "outputs": [
        {
          "output_type": "execute_result",
          "data": {
            "text/plain": [
              "((3, 100, 41), (3, 100, 2), (30, 41), (30, 2))"
            ]
          },
          "metadata": {
            "tags": []
          },
          "execution_count": 30
        }
      ]
    },
    {
      "cell_type": "code",
      "metadata": {
        "id": "5Uv1Jy5QNnMH",
        "colab_type": "code",
        "colab": {}
      },
      "source": [
        "capacity = 40\n",
        "hidden_dim = 300\n",
        "num_rln_layers = 6\n",
        "num_pln_layers = 2\n",
        "\n",
        "rln_init, rln_apply = stax.serial(\n",
        "    *([stax.Dense(hidden_dim), stax.Relu] * num_rln_layers),\n",
        ")\n",
        "\n",
        "pln_init, pln_apply = stax.serial(\n",
        "    *([stax.Dense(hidden_dim), stax.Relu] * num_pln_layers),\n",
        "    stax.Dense(2),\n",
        ")\n",
        "\n",
        "def cl_net_init(rng, input_shape):\n",
        "    rng_rln, rng_pln = split(rng, 2)\n",
        "    rln_out_shape, rln_params = rln_init(rng_rln, input_shape)\n",
        "    pln_out_shape, pln_params = pln_init(rng_pln, rln_out_shape)\n",
        "    return rln_params, pln_params\n",
        "\n",
        "def cl_net_apply(rln_params, pln_params, inputs):\n",
        "    return pln_apply(pln_params, rln_apply(rln_params, inputs))"
      ],
      "execution_count": 62,
      "outputs": []
    },
    {
      "cell_type": "code",
      "metadata": {
        "id": "yB6xwrRMUjmF",
        "colab_type": "code",
        "colab": {}
      },
      "source": [
        "def cl_net_mse_loss(rln_params, pln_params, inputs, targets):\n",
        "    return mse_loss(cl_net_apply(rln_params, pln_params, inputs), targets)\n",
        "\n",
        "def inner_trajectory_update(rln_params, pln_params, x_spt, y_spt, opt_state, opt_update):\n",
        "    for _x, _y in zip(x_spt, y_spt):\n",
        "        loss, grads = value_and_grad(cl_net_mse_loss, 1)(rln_params, pln_params, _x, _y)\n",
        "\n",
        "        updates, opt_state = opt_update(grads, opt_state, pln_params)\n",
        "        pln_params = optix.apply_updates(pln_params, updates)\n",
        "    return pln_params, loss, opt_state\n",
        "\n",
        "def outer_loss_fn(rln_params, pln_params, x_in, y_in, x_out, y_out, inner_opt):\n",
        "    inner_opt_state = inner_opt.init(pln_params)\n",
        "    pln_params, _, _ = inner_trajectory_update(\n",
        "        rln_params, pln_params, x_in, y_in, inner_opt_state, inner_opt.update,\n",
        "    )\n",
        "    return cl_net_mse_loss(rln_params, pln_params, x_out, y_out)\n",
        "\n",
        "# def batch_outer_loss(params, inner_loss_fn, x_in, y_in, x_out, y_out, k, inner_opt):\n",
        "#     outer_losses, inner_losses = vmap(\n",
        "#         partial(outer_loss_fn, params, inner_loss_fn, k=k, inner_opt=inner_opt)\n",
        "#     )(x_in, y_in, x_out, y_out)\n",
        "#     return outer_losses.mean(), inner_losses.mean(0)"
      ],
      "execution_count": 73,
      "outputs": []
    },
    {
      "cell_type": "code",
      "metadata": {
        "id": "yu5eHl3lR_po",
        "colab_type": "code",
        "colab": {}
      },
      "source": [
        "rng, rng_net, rng_sampler_init = split(rng, 3)"
      ],
      "execution_count": 69,
      "outputs": []
    },
    {
      "cell_type": "code",
      "metadata": {
        "id": "Y9ZcyBR9H-2J",
        "colab_type": "code",
        "colab": {
          "base_uri": "https://localhost:8080/",
          "height": 49,
          "referenced_widgets": [
            "cf0e20fb12fd4eb9b575dba34867c6a4",
            "eec5dab780df47d6b4f2466249134b84",
            "707d1efb06bd46a49adaa05aef43155c",
            "b95a64dc36e649cc932e2292b7bf7cf2",
            "1b292ddb561c4e59a82ea93f0ab59402",
            "a3a7c2e7773a4098823515abd4758f1f",
            "24fc7ca0ad984d0ebaa6e5d15f0869bd",
            "5c00ea2b7f924fe395d21a59b801f180"
          ]
        },
        "outputId": "d5a1367b-ad43-4044-e83a-c2589862c3fa"
      },
      "source": [
        "capacity = 40\n",
        "num_tasks = 400\n",
        "tasks = list(range(num_tasks))\n",
        "rln_params, pln_params = cl_net_init(rng_net, (-1, capacity + 1))\n",
        "sine_sampler = SineSampler(rng_sampler_init, tasks, capacity + 1)\n",
        "\n",
        "inner_opt = optix.sgd(1e-3)\n",
        "outer_opt_init, outer_opt_update, outer_get_params = optimizers.adam(step_size=1e-4)\n",
        "outer_opt_state = outer_opt_init((rln_params, pln_params))\n",
        "\n",
        "num_tasks_per_trajectory = 10\n",
        "num_batches_per_task = 40\n",
        "num_samples_per_batch = 8\n",
        "\n",
        "@jit\n",
        "def jit_construct_sets(rng_samples, traj_tasks):\n",
        "    return construct_sets(rng_samples, traj_tasks, sine_sampler, num_steps=num_batches_per_task, num_samples=num_samples_per_batch, shuffle_ids=True)\n",
        "\n",
        "jit_outer_loss_fn = jit(outer_loss_fn, static_argnums=(6,))\n",
        "\n",
        "@jit\n",
        "def step(rng, i, opt_state):\n",
        "    rng_samples, rng_tasks = split(rng, 2)\n",
        "    traj_tasks = random.choice(rng_tasks, tasks, shape=(num_tasks_per_trajectory,), replace=False)\n",
        "    x_spt, y_spt, x_qry, y_qry = jit_construct_sets(rng_samples, traj_tasks)\n",
        "\n",
        "    rln_params, pln_params = outer_get_params(opt_state)\n",
        "    outer_loss, outer_grads = value_and_grad(\n",
        "        jit_outer_loss_fn, (0, 1),\n",
        "    )(rln_params, pln_params, x_spt, y_spt, x_qry, y_qry, inner_opt)\n",
        "    opt_state = outer_opt_update(i, outer_grads, opt_state)\n",
        "    \n",
        "    return opt_state, outer_loss\n",
        "\n",
        "num_outer_steps = 20000\n",
        "pbar = tqdm(range(num_outer_steps))\n",
        "# np_batched_maml_loss = []\n",
        "oml_loss = device_put(np.zeros(num_outer_steps))\n",
        "for i in pbar:\n",
        "    rng, rng_task = split(rng, 2)\n",
        "    outer_opt_state, outer_loss = step(rng_task, i, outer_opt_state)\n",
        "\n",
        "    if (i % 200) == 0:\n",
        "        pbar.set_postfix(\n",
        "            outer_loss=outer_loss,\n",
        "            refresh=True,\n",
        "        )\n",
        "    # np_batched_maml_loss.append(outer_loss)\n",
        "    oml_loss = ops.index_update(oml_loss, i, outer_loss)\n",
        "    \n",
        "# multi_batch_params = outer_get_params(outer_opt_state)"
      ],
      "execution_count": null,
      "outputs": [
        {
          "output_type": "display_data",
          "data": {
            "application/vnd.jupyter.widget-view+json": {
              "model_id": "cf0e20fb12fd4eb9b575dba34867c6a4",
              "version_minor": 0,
              "version_major": 2
            },
            "text/plain": [
              "HBox(children=(FloatProgress(value=0.0, max=20000.0), HTML(value='')))"
            ]
          },
          "metadata": {
            "tags": []
          }
        }
      ]
    },
    {
      "cell_type": "code",
      "metadata": {
        "id": "ZVzpOw2WSFsU",
        "colab_type": "code",
        "colab": {
          "base_uri": "https://localhost:8080/",
          "height": 34
        },
        "outputId": "7bb3846e-9ec1-476f-d968-226c5e06a953"
      },
      "source": [
        "random.choice(rng, list(range(400)), replace=False)"
      ],
      "execution_count": 50,
      "outputs": [
        {
          "output_type": "execute_result",
          "data": {
            "text/plain": [
              "DeviceArray(258, dtype=int32)"
            ]
          },
          "metadata": {
            "tags": []
          },
          "execution_count": 50
        }
      ]
    },
    {
      "cell_type": "code",
      "metadata": {
        "id": "JdDmQ480bAI2",
        "colab_type": "code",
        "colab": {}
      },
      "source": [
        ""
      ],
      "execution_count": null,
      "outputs": []
    }
  ]
}