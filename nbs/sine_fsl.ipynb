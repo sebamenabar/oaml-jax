{
 "cells": [
  {
   "cell_type": "code",
   "execution_count": 1,
   "metadata": {
    "ExecuteTime": {
     "end_time": "2020-07-31T19:18:56.373361Z",
     "start_time": "2020-07-31T19:18:56.271986Z"
    }
   },
   "outputs": [],
   "source": [
    "%load_ext autoreload\n",
    "%autoreload 2"
   ]
  },
  {
   "cell_type": "code",
   "execution_count": 2,
   "metadata": {
    "ExecuteTime": {
     "end_time": "2020-07-31T19:19:04.992362Z",
     "start_time": "2020-07-31T19:19:04.960237Z"
    }
   },
   "outputs": [],
   "source": [
    "import os\n",
    "import sys\n",
    "\n",
    "sys.path.insert(0, '../src')"
   ]
  },
  {
   "cell_type": "code",
   "execution_count": 38,
   "metadata": {
    "ExecuteTime": {
     "end_time": "2020-07-31T19:48:34.922563Z",
     "start_time": "2020-07-31T19:48:34.736884Z"
    }
   },
   "outputs": [],
   "source": [
    "import jax\n",
    "import jax.numpy as np\n",
    "import jax.random as random\n",
    "from jax import jit, grad, value_and_grad, random, lax\n",
    "from jax.random import split\n",
    "from jax.experimental import stax, optimizers\n",
    "\n",
    "import matplotlib.pyplot as plt\n",
    "\n",
    "from lib import *\n",
    "from sine.data import sample_tasks\n",
    "\n",
    "rng = random.PRNGKey(0)"
   ]
  },
  {
   "cell_type": "code",
   "execution_count": 26,
   "metadata": {
    "ExecuteTime": {
     "end_time": "2020-07-31T19:36:20.468063Z",
     "start_time": "2020-07-31T19:36:20.328101Z"
    }
   },
   "outputs": [],
   "source": [
    "xrange_inputs = np.linspace(-5,5,100).reshape((100, 1)) # (k, 1)\n",
    "targets = np.sin(xrange_inputs)"
   ]
  },
  {
   "cell_type": "code",
   "execution_count": 39,
   "metadata": {
    "ExecuteTime": {
     "end_time": "2020-07-31T19:50:16.637691Z",
     "start_time": "2020-07-31T19:50:16.436770Z"
    }
   },
   "outputs": [],
   "source": [
    "net_init, net_apply = stax.serial(\n",
    "    stax.Dense(40), stax.Relu,\n",
    "    stax.Dense(40), stax.Relu,\n",
    "    stax.Dense(1),\n",
    ")\n",
    "\n",
    "def make_net(rng, in_shape=(-1, 1)):\n",
    "    out_shape, net_params = net_init(rng, in_shape)\n",
    "    return net_params\n",
    "\n",
    "@jit\n",
    "def forward(net_apply, params, x, y):\n",
    "    preds = net_apply(params, x)\n",
    "    loss = mse_loss(preds, y)\n",
    "    return loss, preds\n",
    "\n",
    "@jit\n",
    "def grad_step(i, net_apply, p, x, y, opt_update):\n",
    "    (loss, preds), grad = value_and_grad(forward, has_aux=True)(\n",
    "        net_apply, p, x, y,\n",
    "    )\n",
    "    opt_state = opt_update(i, grad, opt_state)\n",
    "    return loss, preds, opt_state\n",
    "\n",
    "def k_grad_steps()"
   ]
  },
  {
   "cell_type": "code",
   "execution_count": 36,
   "metadata": {
    "ExecuteTime": {
     "end_time": "2020-07-31T19:47:18.000537Z",
     "start_time": "2020-07-31T19:47:17.969214Z"
    }
   },
   "outputs": [],
   "source": [
    "(rng_net,) = split(rng, 1)\n",
    "params = make_net(rng_net)"
   ]
  },
  {
   "cell_type": "code",
   "execution_count": 30,
   "metadata": {
    "ExecuteTime": {
     "end_time": "2020-07-31T19:38:25.226572Z",
     "start_time": "2020-07-31T19:38:24.899693Z"
    }
   },
   "outputs": [
    {
     "ename": "NameError",
     "evalue": "name 'net_params' is not defined",
     "output_type": "error",
     "traceback": [
      "\u001b[0;31m---------------------------------------------------------------------------\u001b[0m",
      "\u001b[0;31mNameError\u001b[0m                                 Traceback (most recent call last)",
      "\u001b[0;32m<ipython-input-30-49bc882e984b>\u001b[0m in \u001b[0;36m<module>\u001b[0;34m\u001b[0m\n\u001b[1;32m      6\u001b[0m \u001b[0mopt_state\u001b[0m \u001b[0;34m=\u001b[0m \u001b[0mopt_init\u001b[0m\u001b[0;34m(\u001b[0m\u001b[0mnet\u001b[0m\u001b[0;34m.\u001b[0m\u001b[0mparams\u001b[0m\u001b[0;34m)\u001b[0m\u001b[0;34m\u001b[0m\u001b[0;34m\u001b[0m\u001b[0m\n\u001b[1;32m      7\u001b[0m \u001b[0;34m\u001b[0m\u001b[0m\n\u001b[0;32m----> 8\u001b[0;31m \u001b[0max\u001b[0m\u001b[0;34m.\u001b[0m\u001b[0mplot\u001b[0m\u001b[0;34m(\u001b[0m\u001b[0mxrange_inputs\u001b[0m\u001b[0;34m,\u001b[0m \u001b[0mnet_apply\u001b[0m\u001b[0;34m(\u001b[0m\u001b[0mnet_params\u001b[0m\u001b[0;34m,\u001b[0m \u001b[0mxrange_inputs\u001b[0m\u001b[0;34m)\u001b[0m\u001b[0;34m,\u001b[0m \u001b[0mlabel\u001b[0m\u001b[0;34m=\u001b[0m\u001b[0;34m\"0 steps\"\u001b[0m\u001b[0;34m)\u001b[0m\u001b[0;34m\u001b[0m\u001b[0;34m\u001b[0m\u001b[0m\n\u001b[0m\u001b[1;32m      9\u001b[0m \u001b[0mplot_steps\u001b[0m \u001b[0;34m=\u001b[0m \u001b[0;34m[\u001b[0m\u001b[0;36m1\u001b[0m\u001b[0;34m,\u001b[0m \u001b[0;36m2\u001b[0m\u001b[0;34m,\u001b[0m \u001b[0;36m5\u001b[0m\u001b[0;34m,\u001b[0m \u001b[0;36m10\u001b[0m\u001b[0;34m,\u001b[0m \u001b[0;36m50\u001b[0m\u001b[0;34m,\u001b[0m \u001b[0;36m100\u001b[0m\u001b[0;34m]\u001b[0m\u001b[0;34m\u001b[0m\u001b[0;34m\u001b[0m\u001b[0m\n\u001b[1;32m     10\u001b[0m \u001b[0;32mfor\u001b[0m \u001b[0mi\u001b[0m \u001b[0;32min\u001b[0m \u001b[0mrange\u001b[0m\u001b[0;34m(\u001b[0m\u001b[0;36m1\u001b[0m\u001b[0;34m,\u001b[0m \u001b[0;36m101\u001b[0m\u001b[0;34m)\u001b[0m\u001b[0;34m:\u001b[0m\u001b[0;34m\u001b[0m\u001b[0;34m\u001b[0m\u001b[0m\n",
      "\u001b[0;31mNameError\u001b[0m: name 'net_params' is not defined"
     ]
    },
    {
     "data": {
      "image/png": "[encoded data removed]",
      "text/plain": [
       "<Figure size 864x432 with 1 Axes>"
      ]
     },
     "metadata": {
      "needs_background": "light"
     },
     "output_type": "display_data"
    }
   ],
   "source": [
    "fig, ax = plt.subplots(figsize=(12, 6))\n",
    "ax.plot(xrange_inputs, targets, label=\"Target\")\n",
    "\n",
    "net = make_net(rng)\n",
    "opt_init, opt_update, get_params = optimizers.sgd(1e-1)\n",
    "opt_state = opt_init(net.params)\n",
    "\n",
    "ax.plot(xrange_inputs, net_apply(net_params, xrange_inputs), label=\"0 steps\")\n",
    "plot_steps = [1, 2, 5, 10, 50, 100]\n",
    "for i in range(1, 101):\n",
    "    \n",
    "    \n",
    "    loss, grads = value_and_grad(mse_loss)(net_params, xrange_inputs, targets)\n",
    "    opt_state = opt_update(i - 1, grads, opt_state)\n",
    "    net_params = get_params(opt_state)\n",
    "    \n",
    "    if i in plot_steps:\n",
    "        preds = net_apply(net_params, xrange_inputs)\n",
    "        ax.plot(xrange_inputs, preds, label=\"%d steps\" % i)\n",
    "\n",
    "pointwise_loss = (preds - targets) ** 2\n",
    "ax.plot(xrange_inputs, pointwise_loss, linestyle='-.', label=\"Final loss\")\n",
    "ax.legend()"
   ]
  },
  {
   "cell_type": "code",
   "execution_count": null,
   "metadata": {},
   "outputs": [],
   "source": []
  }
 ],
 "metadata": {
  "kernelspec": {
   "display_name": "grievous",
   "language": "python",
   "name": "grievous"
  },
  "language_info": {
   "codemirror_mode": {
    "name": "ipython",
    "version": 3
   },
   "file_extension": ".py",
   "mimetype": "text/x-python",
   "name": "python",
   "nbconvert_exporter": "python",
   "pygments_lexer": "ipython3",
   "version": "3.6.8"
  },
  "toc": {
   "base_numbering": 1,
   "nav_menu": {},
   "number_sections": true,
   "sideBar": true,
   "skip_h1_title": false,
   "title_cell": "Table of Contents",
   "title_sidebar": "Contents",
   "toc_cell": false,
   "toc_position": {},
   "toc_section_display": true,
   "toc_window_display": false
  }
 },
 "nbformat": 4,
 "nbformat_minor": 2
}
